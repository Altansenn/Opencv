{
 "cells": [
  {
   "cell_type": "markdown",
   "id": "a90db1ba-6346-456c-b18f-a494c03a7eef",
   "metadata": {},
   "source": [
    "# Web Editörleri Ara Sınav Uygulaması\n",
    "\n",
    "# Öğrenci Bilgileri\n",
    "\n",
    "* Adı Soyadı: Altan ŞEN\n",
    "* Öğrenci No: 213302024\n",
    "* Dosyanın Github adresi: \n",
    "\n",
    "# Computer Vision Nedir?\n",
    "\n",
    "Makinaların görsel verileri değerlendirmesi ve kendi içinde yorumlaması, bilgisayar görüşü olarak bilinen bir çalışma alanına denk gelir. Bu, makinelerin resimler ve videolar gibi görsel girdilerden anlamlı bilgiler çıkarmasına ve bu bilgilere dayanarak akıllı kararlar vermesine olanak tanıyan algoritmalar ve tekniklerin geliştirilmesini içerir. Bilgisayar görüşü, bilgisayar bilimi, yapay zeka ve görüntü işleme alanlarını bir araya getirerek makinaların görsel verileri analiz etmesini ve yorumlamasını sağlar.\n",
    "\n",
    "Makineler, çeşitli görsel unsurları tanımak ve anlamak üzere eğitilir. Bu, derin öğrenme ve konvolüsyonel sinir ağları gibi gelişmiş algoritmalar ve makine öğrenimi teknikleriyle gerçekleştirilir. Bu teknikler sayesinde makineler nesneleri tespit edebilir, sınıflandırabilir, hareketlerini izleyebilir, pozlarını tahmin edebilir ve hatta anlamsal anlamlarını anlayabilir.\n",
    "\n",
    "Bilgisayar görüşü, birçok sektörde ve alanlarda yaygın olarak kullanılmaktadır. Örneğin, sağlık hizmetleri alanında tıbbi görüntü analizi ve teşhis için, otonom araçlarda nesne algılama ve navigasyon için, güvenlik sistemlerinde gözetim için, robotikte nesne manipülasyonu ve navigasyon için, ve artırılmış gerçeklik ve sanal gerçeklik gibi alanlarda kullanılmaktadır."
   ]
  },
  {
   "cell_type": "markdown",
   "id": "ebfa1415-77ef-4991-9a36-5cfa1cb92932",
   "metadata": {},
   "source": [
    "## Kısaca OpenCv Kütüphanesi Kullanımı\n",
    "OpenCV, gerçek zamanlı bilgisayarla görme alanında öne çıkan bir açık kaynak kütüphanesidir. Görüntü ve video işleme, analiz ve manipülasyon için geniş bir araç ve algoritma koleksiyonuna sahiptir. Bu kütüphane, nesne algılama, yüz tanıma, hareket izleme gibi çeşitli görevleri gerçekleştirmek için kullanılan araçlar sağlar. OpenCV'nin popülerliği, robotik, sürücüsüz araçlar, tıbbi görüntüleme ve artırılmış gerçeklik gibi farklı alanlarda kullanılabilmesine dayanmaktadır. Ayrıca, platformlar arası uyumluluğu ve kapsamlı dokümantasyonu, hem yeni başlayanlar hem de uzmanlar için tercih edilen bir seçim olmasını sağlar.\n",
    "\n",
    "Bugünkü projemizde OpenCV'yi tanıtacağız. İlk olarak, temel görüntü işleme adımlarından biri olan görüntü manipülasyonunu ele alacağız. Daha sonra, bu işlevleri kullanarak basit bir OpenCV programı yazacağız.\n",
    "\n",
    "\n",
    "1.  Kullanacağımız kütüphaneleri içeri aktarma.\n",
    "2.  Bir resimi okuma fonksiyonu oluşturma.\n",
    "3.  Bir resimi gri tonlamaya dönüştürme fonksiyonunu oluşturma.\n",
    "4.  Bir resimi gauss bulanıklaştırma yöntemiyle bulanıklaştırma fonksiyonu oluşturma.\n",
    "5.  Bir resimde kenar algılama fonksiyonu oluşturma.\n",
    "6.  Resimi pencerede görüntüleme fonksiyonu oluşturma.\n",
    "7.  Programımızın algoritmasına uygun kod yapısını oluşturma."
   ]
  },
  {
   "cell_type": "markdown",
   "id": "bf8597a7-af19-4875-9ea5-9fb77b63b804",
   "metadata": {},
   "source": [
    "### 0- Kütüphanenin kurulumu"
   ]
  },
  {
   "cell_type": "markdown",
   "id": "e8300d50-497c-42e1-ac2b-cc458bffa579",
   "metadata": {
    "vscode": {
     "languageId": "bat"
    }
   },
   "source": [
    "pip install opencv-python\n",
    "pip install numpy"
   ]
  },
  {
   "cell_type": "markdown",
   "id": "3a012d5b-7d9d-4b64-82fd-0539628cd9ab",
   "metadata": {},
   "source": [
    "#### 1 - Kullanacağımız kütüphaneleri içeri aktarma."
   ]
  },
  {
   "cell_type": "code",
   "execution_count": 1,
   "id": "16af5290-9980-42ea-86f9-c4266926ae24",
   "metadata": {},
   "outputs": [],
   "source": [
    "import cv2\n"
   ]
  },
  {
   "cell_type": "markdown",
   "id": "474f1e1f-1f51-4097-b13b-2997d2f13464",
   "metadata": {},
   "source": [
    "#### 2 - Bir resimi okuma fonksiyonu oluşturma."
   ]
  },
  {
   "cell_type": "code",
   "execution_count": 2,
   "id": "3be2c9b7-6708-4de3-9ab5-215ce741fef0",
   "metadata": {},
   "outputs": [],
   "source": [
    "def read_image(image_path):\n",
    "  \"\"\"\n",
    "  Belirtilen resmi okur ve RGB formatında dönüştürür.\n",
    "\n",
    "  Args:\n",
    "      image_path (str): Görüntünün dosya yolu.\n",
    "\n",
    "  Returns:\n",
    "      numpy.ndarray: RGB formatında görüntü dizisi.\n",
    "  \"\"\"\n",
    "  image = cv2.imread(image_path)\n",
    "  return cv2.cvtColor(image, cv2.COLOR_BGR2RGB)"
   ]
  },
  {
   "cell_type": "markdown",
   "id": "1384bf1c-b05d-4ff2-a44b-0740b99eba31",
   "metadata": {},
   "source": [
    "#### 3 - Bir resimi gri tonlamaya dönüştürme fonksiyonunu oluşturma."
   ]
  },
  {
   "cell_type": "code",
   "execution_count": 4,
   "id": "b265a851-406a-49c5-af2f-3e8cfaf6087f",
   "metadata": {},
   "outputs": [],
   "source": [
    "def grayscale(image):\n",
    "  \"\"\"\n",
    "  Bir resmi gri tonlamaya dönüştürür.\n",
    "\n",
    "  Args:\n",
    "      image (numpy.ndarray): RGB formatında görüntü dizisi.\n",
    "\n",
    "  Returns:\n",
    "      numpy.ndarray: Gri tonlamalı görüntü dizisi.\n",
    "  \"\"\"\n",
    "  return cv2.cvtColor(image, cv2.COLOR_RGB2GRAY)"
   ]
  },
  {
   "cell_type": "markdown",
   "id": "038b2cde",
   "metadata": {},
   "source": [
    "#### 4 - Bir resimi gauss bulanıklaştırma yöntemiyle bulanıklaştırma fonksiyonu oluşturma."
   ]
  },
  {
   "cell_type": "code",
   "execution_count": 5,
   "id": "1f8e4f00-3502-461b-aadf-2b4f2b72b9d7",
   "metadata": {},
   "outputs": [],
   "source": [
    "def blur(image, kernel_size=(3, 3)):\n",
    "  \"\"\"\n",
    "  Bir resmi Gauss bulanıklaştırma ile bulanıklaştırır.\n",
    "\n",
    "  Args:\n",
    "      image (numpy.ndarray): RGB formatında görüntü dizisi.\n",
    "      kernel_size (tuple): Bulanıklaştırma çekirdeği boyutu (genişlik, yükseklik).\n",
    "\n",
    "  Returns:\n",
    "      numpy.ndarray: Bulanıklaştırılmış görüntü dizisi.\n",
    "  \"\"\"\n",
    "  return cv2.GaussianBlur(image, kernel_size, 0)"
   ]
  },
  {
   "cell_type": "markdown",
   "id": "3cd42710",
   "metadata": {},
   "source": [
    "#### 5 - Bir resimde kenar algılama fonksiyonu oluşturma."
   ]
  },
  {
   "cell_type": "code",
   "execution_count": 6,
   "id": "bd78a0e9",
   "metadata": {},
   "outputs": [],
   "source": [
    "def edges(image):\n",
    "  \"\"\"\n",
    "  Bir resimde kenarları algılar ve görüntüler.\n",
    "\n",
    "  Args:\n",
    "      image (numpy.ndarray): Gri tonlamalı görüntü dizisi.\n",
    "\n",
    "  Returns:\n",
    "      numpy.ndarray: Kenarları gösteren görüntü dizisi.\n",
    "  \"\"\"\n",
    "  return cv2.Canny(image, 10, 40)"
   ]
  },
  {
   "cell_type": "markdown",
   "id": "204221e8",
   "metadata": {},
   "source": [
    "#### 6 - Resimi pencerede görüntüleme fonksiyonu oluşturma."
   ]
  },
  {
   "cell_type": "code",
   "execution_count": 7,
   "id": "2c198e8a",
   "metadata": {},
   "outputs": [],
   "source": [
    "def show_image(image, title=\"Resim\"):\n",
    "  \"\"\"\n",
    "  Bir resmi pencerede görüntüler.\n",
    "\n",
    "  Args:\n",
    "      image (numpy.ndarray): Görüntü dizisi (RGB veya gri tonlamalı).\n",
    "      title (str): Pencere başlığı.\n",
    "  \"\"\"\n",
    "  cv2.imshow(title, image)\n",
    "  cv2.waitKey(0)\n",
    "  cv2.destroyAllWindows()"
   ]
  },
  {
   "cell_type": "markdown",
   "id": "e580219d",
   "metadata": {},
   "source": [
    "#### 7 - Programımızın algoritmasına uygun kod yapısını oluşturma."
   ]
  },
  {
   "cell_type": "code",
   "execution_count": 8,
   "id": "343de40a",
   "metadata": {},
   "outputs": [],
   "source": [
    "# Bir resim okur.\n",
    "image = read_image(\"kum-tepesi.jpg\")\n",
    "\n",
    "# Resmi gri tonlamaya dönüştür.\n",
    "gray_image = grayscale(image)\n",
    "\n",
    "# Resmi bulanıklaştırır.\n",
    "blurred_image = blur(gray_image, kernel_size=(7, 7))\n",
    "\n",
    "# Kenarları algılar.\n",
    "edges_image = edges(blurred_image)\n",
    "\n",
    "# Orijinal, gri tonlamalı, bulanıklaştırılmış ve kenar algılanmış resimleri gösterir.\n",
    "show_image(image, \"Orijinal\")\n",
    "show_image(gray_image, \"Gri Tonlamalı\")\n",
    "show_image(blurred_image, \"Bulanıklaştırılmış\")\n",
    "show_image(edges_image, \"Kenarlar\")\n"
   ]
  }
 ],
 "metadata": {
  "kernelspec": {
   "display_name": "Python 3 (ipykernel)",
   "language": "python",
   "name": "python3"
  },
  "language_info": {
   "codemirror_mode": {
    "name": "ipython",
    "version": 3
   },
   "file_extension": ".py",
   "mimetype": "text/x-python",
   "name": "python",
   "nbconvert_exporter": "python",
   "pygments_lexer": "ipython3",
   "version": "3.12.2"
  }
 },
 "nbformat": 4,
 "nbformat_minor": 5
}
